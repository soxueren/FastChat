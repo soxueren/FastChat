{
  "nbformat": 4,
  "nbformat_minor": 0,
  "metadata": {
    "colab": {
      "provenance": []
    },
    "kernelspec": {
      "name": "python3",
      "display_name": "Python 3"
    },
    "language_info": {
      "name": "python"
    }
  },
  "cells": [
    {
      "cell_type": "code",
      "source": [
        "%cd /content/\n",
        "!git clone https://github.com/lm-sys/FastChat.git\n",
        "%cd FastChat\n",
        "!pip3 install -e ."
      ],
      "metadata": {
        "id": "I-EW8pqrqVmv"
      },
      "execution_count": null,
      "outputs": []
    },
    {
      "cell_type": "code",
      "source": [
        "%cd /content\n",
        "!mkdir -p /content/output/vicuna-13b\n",
        "!python3 -m fastchat.model.apply_delta --low-cpu-mem \\\n",
        "    --base-model-path huggyllama/llama-13b \\\n",
        "    --target-model-path /content/output/vicuna-13b \\\n",
        "    --delta-path lmsys/vicuna-13b-delta-v1.1"
      ],
      "metadata": {
        "id": "zk6eSWFXtqF6"
      },
      "execution_count": null,
      "outputs": []
    }
  ]
}